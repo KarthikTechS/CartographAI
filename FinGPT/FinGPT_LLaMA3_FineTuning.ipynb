
{
  "cells": [
    {
      "cell_type": "markdown",
      "metadata": {},
      "source": [
        "# 🚀 FinGPT Fine-Tuning on LLaMA 3 (8B) — Instruction Tuning + Evaluation"
      ]
    },
    {
      "cell_type": "code",
      "metadata": {},
      "source": [
        "# ✅ Install dependencies\n",
        "!pip install -q transformers datasets peft accelerate bitsandbytes trl"
      ]
    },
    {
      "cell_type": "code",
      "metadata": {},
      "source": [
        "# ✅ Setup + Model Access\n",
        "from huggingface_hub import login\n",
        "login(token=\\\"<YOUR_HF_TOKEN_HERE>\\\")  # Replace with your actual token"

      ]
    },
    {
      "cell_type": "code",
      "metadata": {},
      "source": [
        "# ✅ Imports\n",
        "import torch, json, time\n",
        "from datasets import Dataset\n",
        "from transformers import AutoTokenizer, AutoModelForCausalLM, TrainingArguments\n",
        "from peft import LoraConfig, get_peft_model, prepare_model_for_kbit_training\n",
        "from trl import SFTTrainer"
      ]
    },
    {
      "cell_type": "code",
      "metadata": {},
      "source": [
        "# ✅ Load Dataset\n",
        "def load_jsonl(file_path):\n",
        "    with open(file_path, \\\"r\\\") as f:\n",
        "        return [json.loads(line) for line in f]\n",
        "\n",
        "data_path = \\\"itruction_tuning_data.jsonl\\\"\n",
        "raw_data = load_jsonl(data_path)\n",
        "dataset = Dataset.from_list(raw_data)"
      ]
    },
    {
      "cell_type": "code",
      "metadata": {},
      "source": [
        "# ✅ Format for FinGPT-style Instruction Tuning\n",
        "def format_example(example):\n",
        "    instruction = example[\\\"instruction\\\"]\n",
        "    input_data = json.dumps(example[\\\"input\\"], indent=2)\n",
        "    answer = example[\\\"answer\\"]\n",
        "    return f\\\"### Instruction:\n{instruction}\n\n### Input:\n{input_data}\n\n### Answer:\n{answer}\\\"\n",
        "\n",
        "dataset = dataset.map(lambda x: {"text": format_example(x)})"
      ]
    },
    {
      "cell_type": "code",
      "metadata": {},
      "source": [
        "# ✅ Load Tokenizer and Model (LLaMA 3 8B)\n",
        "base_model = "meta-llama/Meta-Llama-3-8B"\n",
        "tokenizer = AutoTokenizer.from_pretrained(base_model, use_fast=True)\n",
        "tokenizer.pad_token = tokenizer.eos_token\n",
        "\n",
        "model = AutoModelForCausalLM.from_pretrained(\n",
        "    base_model,\n",
        "    device_map="auto",\n",
        "    load_in_4bit=True,\n",
        "    torch_dtype=torch.float16\n",
        ")\n",
        "model = prepare_model_for_kbit_training(model)"
      ]
    },
    {
      "cell_type": "code",
      "metadata": {},
      "source": [
        "# ✅ Apply QLoRA via PEFT\n",
        "lora_config = LoraConfig(\n",
        "    r=8,\n",
        "    lora_alpha=32,\n",
        "    target_modules=["q_proj", "v_proj"],\n",
        "    lora_dropout=0.05,\n",
        "    bias="none",\n",
        "    task_type="CAUSAL_LM"\n",
        ")\n",
        "model = get_peft_model(model, lora_config)"
      ]
    },
    {
      "cell_type": "code",
      "metadata": {},
      "source": [
        "# ✅ Training Arguments\n",
        "training_args = TrainingArguments(\n",
        "    output_dir="./finetuned-llama3-fingpt",\n",
        "    per_device_train_batch_size=4,\n",
        "    gradient_accumulation_steps=2,\n",
        "    max_steps=1000,\n",
        "    warmup_steps=50,\n",
        "    learning_rate=2e-4,\n",
        "    fp16=True,\n",
        "    logging_dir="./logs",\n",
        "    logging_steps=20,\n",
        "    save_strategy="steps",\n",
        "    save_steps=200\n",
        ")"
      ]
    },
    {
      "cell_type": "code",
      "metadata": {},
      "source": [
        "# ✅ Train with SFTTrainer\n",
        "trainer = SFTTrainer(\n",
        "    model=model,\n",
        "    tokenizer=tokenizer,\n",
        "    train_dataset=dataset,\n",
        "    dataset_text_field="text",\n",
        "    args=training_args,\n",
        "    peft_config=lora_config\n",
        ")\n",
        "trainer.train()"
      ]
    },
    {
      "cell_type": "markdown",
      "metadata": {},
      "source": [
        "## ✅ Client Validation Report"
      ]
    },
    {
      "cell_type": "code",
      "metadata": {},
      "source": [
        "# ✅ Evaluation (sample-based)\n",
        "from random import sample\n",
        "\n",
        "eval_set = sample(raw_data, min(20, len(raw_data)))\n",
        "correct = 0\n",
        "total_time = 0\n",
        "for row in eval_set:\n",
        "    input_text = format_example(row)\n",
        "    inputs = tokenizer(input_text, return_tensors="pt").to(model.device)\n",
        "    start = time.time()\n",
        "    output = model.generate(**inputs, max_new_tokens=100)\n",
        "    total_time += time.time() - start\n",
        "    decoded = tokenizer.decode(output[0], skip_special_tokens=True)\n",
        "    correct += row['answer'].strip() in decoded\n",
        "\n",
        "accuracy = correct / len(eval_set)\n",
        "avg_latency = total_time / len(eval_set)\n",
        "context_window = tokenizer.model_max_length\n",
        "\n",
        "print("--- Client Evaluation Report ---")\n",
        "print(f"Model: LLaMA 3 8B")\n",
        "print(f"Use case: Table + Column Explanation (FinGPT style)")\n",
        "print(f"Accuracy: {accuracy:.2%}")\n",
        "print(f"Speed (avg latency): {avg_latency:.2f} sec/response")\n",
        "print(f"Context Window: {context_window} tokens")\n",
        "print(f"Efficiency (Accuracy/Cost): TBD based on infra")\n",
        "print(f"Efficiency (Speed/Cost): TBD based on infra")"
      ]
    }
  ],
  "metadata": {
    "kernelspec": {
      "display_name": "Python 3",
      "language": "python",
      "name": "python3"
    },
    "language_info": {
      "name": "python",
      "version": ""
    }
  },
  "nbformat": 4,
  "nbformat_minor": 5
}
